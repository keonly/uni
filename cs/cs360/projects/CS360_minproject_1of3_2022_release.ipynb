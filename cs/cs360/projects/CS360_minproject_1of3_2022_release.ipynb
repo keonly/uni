{
  "nbformat": 4,
  "nbformat_minor": 0,
  "metadata": {
    "colab": {
      "provenance": []
    },
    "kernelspec": {
      "name": "python3",
      "display_name": "Python 3"
    },
    "language_info": {
      "name": "python"
    }
  },
  "cells": [
    {
      "cell_type": "markdown",
      "source": [
        "**NOTE: Distributing or uploading this course material to a public repository (e.g., GitHub) is strictly prohibited.**"
      ],
      "metadata": {
        "id": "TLf3PCpOvhus"
      }
    },
    {
      "cell_type": "markdown",
      "source": [
        "## **Database Creation**\n",
        "\n",
        "We want to implement an OpenCourseWare service using SQLite3. For this purpose, we will create the following four tables:\n",
        "\n",
        "-  `\"kmooc_instructor\"` - instructor information\n",
        "-  `\"kmooc_course\"` - course information \n",
        "-  `\"kmooc_learningpath\"` - learning path (or curriculum) information\n",
        "-  `\"kmooc_learningpath_courses\"` - mapping between courses to learning paths\n",
        "\n",
        "The given 'create_database_proj1.sql' file contains the definition of the schema and a sample set of the tuples. You can download it from [here](https://drive.google.com/file/d/1IOSBZ2a2WWvgkTKfR5lcel0PIC_uo0wq/view?usp=share_link).\n",
        "\n",
        "Please see the file for detailed schema.\n",
        "\n",
        "We will implement several core modules of the service."
      ],
      "metadata": {
        "id": "o_zJTcIMOWh5"
      }
    },
    {
      "cell_type": "code",
      "source": [
        "from google.colab import drive\n",
        "drive.mount('/content/drive')"
      ],
      "metadata": {
        "colab": {
          "base_uri": "https://localhost:8080/"
        },
        "id": "OpcaGkkQO-EA",
        "outputId": "d4cee42b-9db2-4fb7-e6b7-e47fd00b285b"
      },
      "execution_count": null,
      "outputs": [
        {
          "output_type": "stream",
          "name": "stdout",
          "text": [
            "Drive already mounted at /content/drive; to attempt to forcibly remount, call drive.mount(\"/content/drive\", force_remount=True).\n"
          ]
        }
      ]
    },
    {
      "cell_type": "code",
      "source": [
        "import sqlite3\n",
        " \n",
        "conn = sqlite3.connect('kmooc.sqlite3')\n",
        "cur = conn.cursor()\n",
        "\n",
        "# Enter your solution here\n",
        "# Execute the SQL statements in 'create_database_proj1.sql'.\n",
        "# First, upload the file on your Google Drive folder.\n",
        "# If you placed this file in the 'MyDrive' folder, its path is '/content/drive/MyDrive/create_database_proj1.sql'.\n",
        "\n",
        "conn.commit()\n",
        "conn.close()"
      ],
      "metadata": {
        "id": "tMBPg0yaAhPm"
      },
      "execution_count": null,
      "outputs": []
    },
    {
      "cell_type": "markdown",
      "source": [
        "## **Module 1**\n",
        "\n",
        "We need to extract the top 10 highest rated courses from this database.\n",
        "\n",
        "Create a query that will join the tables `\"kmooc_course\"` and `\"kmooc_instructor\"` (LEFT JOIN) and extract the top 10 courses (*rating* column of the `\"kmooc_course\"` table).\n",
        "\n",
        "Display the following columns in the output table:\n",
        "\n",
        "- *title* (`\"kmooc_course\"` table)\n",
        "- *rating* (`\"kmooc_course\"` table)\n",
        "- *instructor* - concatenation of the *first_name* and *last_name* columns with a space character (`\"kmooc_instructor\"` table)\n",
        "\n",
        "Sort the output table in the descending order of the *rating* column.\n",
        "\n",
        "Note that the third column is made by concatenating the *first_name* and *last_name* columns.\n",
        "\n",
        "**Format**:\n",
        ">```\n",
        "('course_title', course_rating, 'first_name last_name')\n",
        "...\n",
        "```\n",
        "\n",
        "Print the result using the code cell below."
      ],
      "metadata": {
        "id": "UboZNCSbIJn9"
      }
    },
    {
      "cell_type": "code",
      "source": [
        "import sqlite3\n",
        "\n",
        "conn = sqlite3.connect('kmooc.sqlite3')\n",
        "cur = conn.cursor()\n",
        "\n",
        "# Enter your solution here\n",
        "\n",
        "conn.commit()\n",
        "conn.close()"
      ],
      "metadata": {
        "id": "WUuWRZwxJBEl"
      },
      "execution_count": null,
      "outputs": []
    },
    {
      "cell_type": "markdown",
      "source": [
        "## **Module 2**\n",
        "\n",
        "We need to extract all the names of the learning paths with the names of the courses included in the path and the subcategory of each component course (see below).\n",
        "\n",
        "Display the following columns in the output table:\n",
        "\n",
        "- *title* column from `\"kmooc_learningpath\"` table, aliased as `\"path_title\"`\n",
        "- *title* column from `\"kmooc_course\"` table, aliased as `\"course_title\"`\n",
        "- *subcategory* column from the `\"kmooc_course\"` table\n",
        "\n",
        "Sort the output table in the ascending order of the *path_title* and *course_title* columns. Limit the result to the first 10 records.\n",
        "\n",
        "**Format**:\n",
        ">```\n",
        "('path_title', 'course_title', 'course_subcategory')\n",
        "...\n",
        "```\n",
        "\n",
        "Print the result using the code cell below."
      ],
      "metadata": {
        "id": "Fc-TocDrJFPU"
      }
    },
    {
      "cell_type": "code",
      "source": [
        "import sqlite3\n",
        "\n",
        "conn = sqlite3.connect('kmooc.sqlite3')\n",
        "cur = conn.cursor()\n",
        "\n",
        "# Enter your solution here\n",
        "\n",
        "conn.commit()\n",
        "conn.close()"
      ],
      "metadata": {
        "id": "lqGtl0QgJtAk"
      },
      "execution_count": null,
      "outputs": []
    },
    {
      "cell_type": "markdown",
      "source": [
        "## **Module 3**\n",
        "\n",
        "We need to extract all the names of the learning paths with the number of courses in each path (see below).\n",
        "\n",
        "Display the following columns in the output table:\n",
        "\n",
        "- *title* column from `\"esmartdata_learningpath\"` table, aliased as `\"path_title\"`\n",
        "- *num_courses* - the number of courses for a given path\n",
        "\n",
        "Sort the output table in the descending order of the *num_courses* column.\n",
        "\n",
        "**Format**:\n",
        ">```\n",
        "('path_title', num_courses)\n",
        "...\n",
        "```\n",
        "\n",
        "Print the result using the code cell below."
      ],
      "metadata": {
        "id": "x8KIoiwjJM_f"
      }
    },
    {
      "cell_type": "code",
      "source": [
        "import sqlite3\n",
        "\n",
        "conn = sqlite3.connect('kmooc.sqlite3')\n",
        "cur = conn.cursor()\n",
        "\n",
        "# Enter your solution here\n",
        "\n",
        "conn.commit()\n",
        "conn.close()"
      ],
      "metadata": {
        "id": "eaBOOB0hKOgU"
      },
      "execution_count": null,
      "outputs": []
    },
    {
      "cell_type": "markdown",
      "source": [
        "## **Module 4**\n",
        "\n",
        "We need to extract all the names of the learning paths with the names of the courses included in the path and the name of each course's instructor (see below).\n",
        "\n",
        "Display the following columns in the output table:\n",
        "\n",
        "- *title* column from `\"kmooc_learningpath\"` table, aliased as `\"path_title\"`\n",
        "- *title* column from `\"kmooc_course\"` table, aliased as `\"course_title\"`\n",
        "- *instructor* - concatenation of the *first_name* and *last_name* columns with a space character (`\"kmooc_instructor\"` table)\n",
        "\n",
        "Sort the output table in the ascending order of the *path_title* and *course_title* columns. Limit the result to the first 10 records.\n",
        "\n",
        "**Format**:\n",
        ">```\n",
        "('path_title', 'course_title', 'first_name last_name')\n",
        "...\n",
        "```\n",
        "\n",
        "Print the result using the code cell below."
      ],
      "metadata": {
        "id": "0iVBCh9oJPfH"
      }
    },
    {
      "cell_type": "code",
      "source": [
        "import sqlite3\n",
        "\n",
        "conn = sqlite3.connect('kmooc.sqlite3')\n",
        "cur = conn.cursor()\n",
        "\n",
        "# Enter your solution here\n",
        "\n",
        "conn.commit()\n",
        "conn.close()"
      ],
      "metadata": {
        "id": "0LqfsJcAKol2"
      },
      "execution_count": null,
      "outputs": []
    },
    {
      "cell_type": "markdown",
      "source": [
        "## **Module 5**\n",
        "\n",
        "We need to extract the number of courses for each instructor in all learning paths.\n",
        "\n",
        "Display the following columns in the output table:\n",
        "\n",
        " - *title* column from `\"kmooc_learningpath\"` table, aliased as `\"path_title\"`\n",
        " - *instructor* - concatenation of the *first_name* and *last_name* columns with a space character (`\"kmooc_instructor\"` table)\n",
        " - *num_courses* - number of courses per instructor in the given learning path\n",
        "\n",
        "Sort the output table in the ascending order of the *path_title* and *instructor* columns.\n",
        "\n",
        "\n",
        "**Format**:\n",
        ">```\n",
        "('path_title', 'first_name last_name', num_courses)\n",
        "...\n",
        "```\n",
        "\n",
        "Print the result using the code cell below."
      ],
      "metadata": {
        "id": "dx0Qk95cJUIF"
      }
    },
    {
      "cell_type": "code",
      "source": [
        "import sqlite3\n",
        "\n",
        "conn = sqlite3.connect('kmooc.sqlite3')\n",
        "cur = conn.cursor()\n",
        "\n",
        "# Enter your solution here\n",
        "\n",
        "conn.commit()\n",
        "conn.close()"
      ],
      "metadata": {
        "id": "swRw5HblLJk-"
      },
      "execution_count": null,
      "outputs": []
    },
    {
      "cell_type": "markdown",
      "source": [
        "## **Module 6**\n",
        "\n",
        "We need to extract the number of courses at the category, sub-category, and instructor levels (see below).\n",
        "\n",
        "Display the following columns in the output table:\n",
        "\n",
        " - *category* column from the `\"kmooc_course\"` table\n",
        " - *subcategory* column from the `\"kmooc_course\"` table\n",
        " - *instructo*r - concatenation of the *first_name* and *last_name* columns with a space character (`\"kmooc_instructor\"` table)\n",
        " - *num_courses* - number of courses per *category*, *subcategory* and *instructor*\n",
        "\n",
        "Sort the output table in the descending order of the *num_courses* column. \n",
        "\n",
        "**Format**:\n",
        ">```\n",
        "('category', 'subcategory', 'first_name last_name', num_courses)\n",
        "...\n",
        "```\n",
        "\n",
        "Print the result using the code cell below."
      ],
      "metadata": {
        "id": "cSjEK7ozJVXZ"
      }
    },
    {
      "cell_type": "code",
      "source": [
        "import sqlite3\n",
        "\n",
        "conn = sqlite3.connect('kmooc.sqlite3')\n",
        "cur = conn.cursor()\n",
        "\n",
        "# Enter your solution here\n",
        "\n",
        "conn.commit()\n",
        "conn.close()"
      ],
      "metadata": {
        "id": "3NeSdDt2MijY"
      },
      "execution_count": null,
      "outputs": []
    }
  ]
}