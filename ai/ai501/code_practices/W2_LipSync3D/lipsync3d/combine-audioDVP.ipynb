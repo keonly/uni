{
 "cells": [
  {
   "cell_type": "code",
   "execution_count": 2,
   "metadata": {},
   "outputs": [],
   "source": [
    "import os\n",
    "import cv2\n",
    "import numpy as np\n",
    "from natsort import natsorted\n",
    "import torch\n",
    "import matplotlib.pyplot as plt\n",
    "from PIL import Image\n",
    "from multiprocessing import Pool\n",
    "from sklearn.preprocessing import MinMaxScaler\n",
    "from skimage import exposure\n",
    "import math\n",
    "import shutil"
   ]
  },
  {
   "cell_type": "code",
   "execution_count": 6,
   "metadata": {},
   "outputs": [],
   "source": [
    "def toTexture(image, gt_image, count):\n",
    "    \n",
    "    background = cv2.imread(gt_image)\n",
    "    groundTruth = background.copy()\n",
    "    texture_img = cv2.imread(image)\n",
    "    \n",
    "    texture_img_gray = cv2.cvtColor(texture_img, cv2.COLOR_BGR2GRAY)\n",
    "    th, texture_th = cv2.threshold(texture_img_gray, 30, 50, cv2.THRESH_BINARY_INV)\n",
    "    \n",
    "    texture_th_floodfill = texture_th.copy()\n",
    "    \n",
    "    mask = np.zeros((image_height + 2, image_width + 2), np.uint8)\n",
    "    \n",
    "    cv2.floodFill(texture_th_floodfill, mask, (0,0), 255)\n",
    "    \n",
    "    texture_th_floodfill_inv = cv2.bitwise_not(texture_th_floodfill)\n",
    "    \n",
    "    im_out = texture_th | texture_th_floodfill_inv\n",
    "    \n",
    "    index_texture = np.array(list(zip(*np.where(im_out == 255))))\n",
    "    \n",
    "    background[index_texture[:,0], index_texture[:,1]] = texture_img[index_texture[:,0], index_texture[:,1]]\n",
    "    \n",
    "    texture_result = cv2.seamlessClone(background, groundTruth, im_out, (image_height//2, image_width // 2), cv2.NORMAL_CLONE)\n",
    "    \n",
    "    cv2.imwrite(os.path.join(src_directory, 'merged_texture', '{}.jpg'.format(count)), texture_result)\n",
    "    "
   ]
  },
  {
   "cell_type": "code",
   "execution_count": 11,
   "metadata": {},
   "outputs": [],
   "source": [
    "image_height = 256\n",
    "image_width = 256\n",
    "texture_height = 280\n",
    "texture_width = 280\n",
    "src_directory = '../audioDVP_files/'"
   ]
  },
  {
   "cell_type": "code",
   "execution_count": 13,
   "metadata": {},
   "outputs": [],
   "source": [
    "texture_image_files = natsorted([os.path.join(src_directory,'predicted_texture', x) for x in os.listdir(os.path.join(src_directory, 'predicted_texture'))])\n",
    "gt_frames = natsorted([os.path.join(src_directory, 'crop', x) for x in os.listdir(os.path.join(src_directory, 'crop'))])\n",
    "# reference_mouth = Image.fromarray(reference_mouth)\n",
    "count = [i for i in range(len(texture_image_files))]"
   ]
  },
  {
   "cell_type": "code",
   "execution_count": 17,
   "metadata": {},
   "outputs": [],
   "source": [
    "if os.path.exists(os.path.join(src_directory, 'merged_texture')):\n",
    "    shutil.rmtree(os.path.join(src_directory, 'merged_texture'))\n",
    "os.makedirs(os.path.join(src_directory, 'merged_texture'))\n",
    "pool = Pool(processes=40)\n",
    "pool.starmap(toTexture, zip(texture_image_files, gt_frames, count))\n",
    "pool.terminate()\n",
    "pool.join()"
   ]
  },
  {
   "cell_type": "code",
   "execution_count": 24,
   "metadata": {},
   "outputs": [
    {
     "data": {
      "text/plain": [
       "0"
      ]
     },
     "execution_count": 24,
     "metadata": {},
     "output_type": "execute_result"
    }
   ],
   "source": [
    "# os.system('ffmpeg -y -i {}/%d.jpg -i {} -c:v libopenh264 -r 25 {}'.format(os.path.join(src_directory, 'predicted_face'), os.path.join(src_directory, 'audio','audio.wav'), os.path.join(src_directory, 'results', 'predicted_face.mp4')))\n",
    "os.system('ffmpeg -y -i {}/%d.jpg -c:v libx264 -crf 1 -r 25 {}'.format(os.path.join(src_directory, 'merged_texture'), os.path.join(src_directory, 'results', 'final_outcome.mp4')))\n",
    "os.system('ffmpeg -y -i {} -i {} -c:v copy -c:a copy {}'.format(os.path.join(src_directory, 'results', 'final_outcome.mp4'), os.path.join(src_directory,'reenact_audio2bfm_1e_2.mp4'), os.path.join(src_directory, 'results', 'with_audio.mp4')))"
   ]
  },
  {
   "cell_type": "code",
   "execution_count": 66,
   "metadata": {},
   "outputs": [
    {
     "data": {
      "text/plain": [
       "0"
      ]
     },
     "execution_count": 66,
     "metadata": {},
     "output_type": "execute_result"
    }
   ],
   "source": [
    "os.system('ffmpeg -y -i {}/%d.jpg -i {} -c:v libx264 -crf 1 -r 25 {}'.format(os.path.join(src_directory, 'merged_texture'), os.path.join(src_directory, 'audio','audio.wav'), os.path.join(src_directory, 'results', 'final_texture.mp4')))"
   ]
  },
  {
   "cell_type": "code",
   "execution_count": 47,
   "metadata": {},
   "outputs": [
    {
     "data": {
      "text/plain": [
       "0"
      ]
     },
     "execution_count": 47,
     "metadata": {},
     "output_type": "execute_result"
    }
   ],
   "source": [
    "out = cv2.VideoWriter(os.path.join(src_directory, 'temp_mesh.mp4'), cv2.VideoWriter_fourcc(*'mp4v'), 25, (image_width, image_height))\n",
    "\n",
    "imageFiles = natsorted([os.path.join(src_directory, 'reenact_mesh_image', x) for x in os.listdir(os.path.join(src_directory, 'reenact_mesh_image'))])\n",
    "\n",
    "for im in imageFiles:\n",
    "    image = cv2.imread(im)\n",
    "    out.write(image)\n",
    "\n",
    "out.release()\n",
    "os.system('ffmpeg -y -i {} -i {} -c:v copy -c:a aac {}'.format(os.path.join(src_directory, 'temp_mesh.mp4')\n",
    ", os.path.join(src_directory, 'audio','audio.wav'), os.path.join(src_directory, 'results', 'predicted_mesh.mp4')\n",
    "))"
   ]
  },
  {
   "cell_type": "code",
   "execution_count": 17,
   "metadata": {},
   "outputs": [
    {
     "data": {
      "text/plain": [
       "0"
      ]
     },
     "execution_count": 17,
     "metadata": {},
     "output_type": "execute_result"
    }
   ],
   "source": [
    "os.system('ffmpeg -y -i {}/results/predicted_face.mp4 -i {}/results/predicted_mesh.mp4 -filter_complex hstack -c:v libopenh264 {}/results/face_mesh_comparison.mp4'.format(src_directory,src_directory,src_directory))"
   ]
  }
 ],
 "metadata": {
  "interpreter": {
   "hash": "9968410507dc6acd82900f38c76c24d3f252bf51bc1b0c3680d51a23b0e86376"
  },
  "kernelspec": {
   "display_name": "Python 3",
   "language": "python",
   "name": "python3"
  },
  "language_info": {
   "codemirror_mode": {
    "name": "ipython",
    "version": 3
   },
   "file_extension": ".py",
   "mimetype": "text/x-python",
   "name": "python",
   "nbconvert_exporter": "python",
   "pygments_lexer": "ipython3",
   "version": "3.8.11"
  }
 },
 "nbformat": 4,
 "nbformat_minor": 2
}
